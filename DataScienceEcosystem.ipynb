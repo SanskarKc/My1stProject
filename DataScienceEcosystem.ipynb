{
 "cells": [
  {
   "cell_type": "markdown",
   "id": "a0b9b8f0-ea9e-4954-bc24-aa0bba7c70b3",
   "metadata": {},
   "source": [
    "# Data science tools and ecosystem "
   ]
  },
  {
   "cell_type": "markdown",
   "id": "c7b2552d-e06e-4589-ac81-9be6e6ec9914",
   "metadata": {},
   "source": [
    "Introduction"
   ]
  },
  {
   "cell_type": "raw",
   "id": "b2810268-9c22-4f52-a59f-3d7bc752b5cd",
   "metadata": {},
   "source": [
    "In this notebook, Data Science Tools and Ecosystem are summarized."
   ]
  },
  {
   "cell_type": "markdown",
   "id": "2515a363-c085-40fd-989d-2ada6c430b8a",
   "metadata": {},
   "source": [
    "Data Science languages:"
   ]
  },
  {
   "cell_type": "markdown",
   "id": "2687b8be-99a7-490c-a62d-c5bcb96b899c",
   "metadata": {},
   "source": [
    "Some of the popular languages that Data Scientists use are:\n",
    "1. Python\n",
    "2. R\n",
    "3. SQL\n",
    "4. Julia\n",
    "5. Java"
   ]
  },
  {
   "cell_type": "markdown",
   "id": "1322d48b-7b91-437d-bc59-6744b9e4fc73",
   "metadata": {},
   "source": [
    "Data Science Libraries:"
   ]
  },
  {
   "cell_type": "markdown",
   "id": "54e9853c-ed28-4819-af67-63d831a69956",
   "metadata": {},
   "source": [
    "Some of the commonly used libraries used by Data Scientists include:\n",
    "1. Python libraries like numPy, matplotlib, Pandas etc.\n",
    "2. R libraries like ggplot2, dplyr, caret etc."
   ]
  },
  {
   "cell_type": "markdown",
   "id": "7eb68cb5-98d0-4af6-8c28-6607e50bc6f5",
   "metadata": {},
   "source": [
    "Data Science tools:"
   ]
  },
  {
   "cell_type": "markdown",
   "id": "ce4e3171-35c1-46ff-bbae-add25d62ec75",
   "metadata": {},
   "source": [
    "|Data Science tools|\n",
    "|------------------|\n",
    "|Jupyter Notebook|\n",
    "|RStudio|\n",
    "|VS code|"
   ]
  },
  {
   "cell_type": "markdown",
   "id": "35f76964-e7a3-40a5-ab19-dee8dd2dc7c0",
   "metadata": {},
   "source": [
    "# Arithmetic expression in python\n"
   ]
  },
  {
   "cell_type": "markdown",
   "id": "b99fc7bc-1cde-4f58-81b6-4bf2dc74958d",
   "metadata": {},
   "source": [
    "### Below are a few examples of evaluating arithmetic expressions in Python"
   ]
  },
  {
   "cell_type": "code",
   "execution_count": 2,
   "id": "a3d38737-e194-4491-bc3a-972dcb4b9d31",
   "metadata": {},
   "outputs": [
    {
     "name": "stdout",
     "output_type": "stream",
     "text": [
      "17\n"
     ]
    }
   ],
   "source": [
    "s=(3*4)+5\n",
    "print(s)"
   ]
  },
  {
   "cell_type": "markdown",
   "id": "2bd7f57d-1717-4d4e-9452-c4ee4468352d",
   "metadata": {},
   "source": [
    "#### Converting minutes to hours:"
   ]
  },
  {
   "cell_type": "code",
   "execution_count": 5,
   "id": "7f391428-2abf-4475-a12c-8f028f9e802b",
   "metadata": {},
   "outputs": [
    {
     "name": "stdout",
     "output_type": "stream",
     "text": [
      "In hours it is\n"
     ]
    },
    {
     "data": {
      "text/plain": [
       "3.3333333333333335"
      ]
     },
     "execution_count": 5,
     "metadata": {},
     "output_type": "execute_result"
    }
   ],
   "source": [
    "minutes=200\n",
    "hours=minutes/60\n",
    "print(\"In hours it is\");hours"
   ]
  },
  {
   "cell_type": "markdown",
   "id": "1f6eb4b9-3323-42b6-9ffc-8f7904bf3957",
   "metadata": {},
   "source": [
    "# Objectives:"
   ]
  },
  {
   "cell_type": "markdown",
   "id": "a49da223-1817-4269-8dc0-1627d2d0bb91",
   "metadata": {},
   "source": [
    "- We listed various data science languages.\n",
    "- We aLso listed various data science libraries & tools.\n",
    "- Furthermore, we evaluated some arithmetic expressions in python."
   ]
  },
  {
   "cell_type": "markdown",
   "id": "9bcce0e3-13c2-49b7-b322-6cb068e6efbe",
   "metadata": {},
   "source": [
    "## Author\n",
    "Sanskar kc"
   ]
  }
 ],
 "metadata": {
  "kernelspec": {
   "display_name": "Python 3 (ipykernel)",
   "language": "python",
   "name": "python3"
  },
  "language_info": {
   "codemirror_mode": {
    "name": "ipython",
    "version": 3
   },
   "file_extension": ".py",
   "mimetype": "text/x-python",
   "name": "python",
   "nbconvert_exporter": "python",
   "pygments_lexer": "ipython3",
   "version": "3.11.9"
  }
 },
 "nbformat": 4,
 "nbformat_minor": 5
}
